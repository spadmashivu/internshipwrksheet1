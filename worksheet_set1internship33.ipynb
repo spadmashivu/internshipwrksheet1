{
 "cells": [
  {
   "cell_type": "code",
   "execution_count": 1,
   "id": "464ed0d8",
   "metadata": {},
   "outputs": [],
   "source": [
    "#. Which of the following operators is used to calculate remainder in a division?\n"
   ]
  },
  {
   "cell_type": "markdown",
   "id": "6cecb459",
   "metadata": {},
   "source": [
    " ans %(c)\n"
   ]
  },
  {
   "cell_type": "code",
   "execution_count": 4,
   "id": "b9076dd7",
   "metadata": {},
   "outputs": [
    {
     "data": {
      "text/plain": [
       "0.6666666666666666"
      ]
     },
     "execution_count": 4,
     "metadata": {},
     "output_type": "execute_result"
    }
   ],
   "source": [
    "2/3"
   ]
  },
  {
   "cell_type": "code",
   "execution_count": 5,
   "id": "e45a1e28",
   "metadata": {},
   "outputs": [
    {
     "data": {
      "text/plain": [
       "False"
      ]
     },
     "execution_count": 5,
     "metadata": {},
     "output_type": "execute_result"
    }
   ],
   "source": [
    "6<2"
   ]
  },
  {
   "cell_type": "code",
   "execution_count": 7,
   "id": "51db8abc",
   "metadata": {},
   "outputs": [
    {
     "data": {
      "text/plain": [
       "6"
      ]
     },
     "execution_count": 7,
     "metadata": {},
     "output_type": "execute_result"
    }
   ],
   "source": [
    "6|2"
   ]
  },
  {
   "cell_type": "code",
   "execution_count": 12,
   "id": "a8ca33bb",
   "metadata": {},
   "outputs": [],
   "source": [
    "#What does the finally keyword denotes in python\n"
   ]
  },
  {
   "cell_type": "markdown",
   "id": "80e63024",
   "metadata": {},
   "source": [
    "C) the finally block will be executed no matter if the try block raises an error or not."
   ]
  },
  {
   "cell_type": "code",
   "execution_count": 31,
   "id": "6028fe8f",
   "metadata": {},
   "outputs": [],
   "source": [
    "#7. What does raise keyword is used for in python?\n"
   ]
  },
  {
   "cell_type": "code",
   "execution_count": null,
   "id": "2d140941",
   "metadata": {},
   "outputs": [],
   "source": [
    "7. What does raise keyword is used for in python"
   ]
  },
  {
   "cell_type": "markdown",
   "id": "4b31ef2b",
   "metadata": {},
   "source": [
    "A) It is used to raise an exception."
   ]
  },
  {
   "cell_type": "code",
   "execution_count": 32,
   "id": "8e7844b8",
   "metadata": {},
   "outputs": [],
   "source": [
    "#8. Which of the following is a common use case of yield keyword in python?\n"
   ]
  },
  {
   "cell_type": "markdown",
   "id": "a95ee38a",
   "metadata": {},
   "source": [
    "C) in defining a generator"
   ]
  },
  {
   "cell_type": "code",
   "execution_count": 17,
   "id": "a470f7dc",
   "metadata": {},
   "outputs": [],
   "source": [
    "#9.Which of the following are the valid variable names?\n",
    " \n"
   ]
  },
  {
   "cell_type": "markdown",
   "id": "caae8522",
   "metadata": {},
   "source": [
    "#ans D.None of these.\n"
   ]
  },
  {
   "cell_type": "code",
   "execution_count": null,
   "id": "e81de854",
   "metadata": {},
   "outputs": [],
   "source": [
    "#10. Which of the following are the keywords in python?\n",
    "yield,raise,look_in,\n"
   ]
  },
  {
   "cell_type": "markdown",
   "id": "69d91ac3",
   "metadata": {},
   "source": [
    "a. yield and raise.are the keywords."
   ]
  },
  {
   "cell_type": "code",
   "execution_count": 23,
   "id": "1e656fec",
   "metadata": {},
   "outputs": [
    {
     "name": "stdout",
     "output_type": "stream",
     "text": [
      "Factorial of 5 is 120\n"
     ]
    }
   ],
   "source": [
    "# write a python program to find the factorial of a number\n",
    "def factorial(n):\n",
    "    if n < 0:\n",
    "         return 0\n",
    "    elif n == 0 or n == 1:\n",
    "        return 1\n",
    "    else:\n",
    "        fact = 1\n",
    "        while(n > 1):\n",
    "            fact *= n\n",
    "            n -= 1\n",
    "        return fact\n",
    " \n",
    "# Driver Code\n",
    "num = 5;\n",
    "print(\"Factorial of\",num,\"is\",\n",
    "factorial(num))"
   ]
  },
  {
   "cell_type": "code",
   "execution_count": 24,
   "id": "2d428e91",
   "metadata": {},
   "outputs": [
    {
     "name": "stdout",
     "output_type": "stream",
     "text": [
      "11 is a prime number\n"
     ]
    }
   ],
   "source": [
    "#Write a python program to find whether a number is prime or composite.\n",
    "\n",
    "num = 11\n",
    "# If given number is greater than 1\n",
    "if num > 1:\n",
    "    # Iterate from 2 to n / 2\n",
    "    for i in range(2, int(num/2)+1):\n",
    "        # If num is divisible by any number between\n",
    "        # 2 and n / 2, it is not prime\n",
    "        if (num % i) == 0:\n",
    "            print(num, \"is not a prime number\")\n",
    "            break\n",
    "    else:\n",
    "        print(num, \"is a prime number\")\n",
    "else:\n",
    "    print(num, \"is not a prime number\")"
   ]
  },
  {
   "cell_type": "code",
   "execution_count": 26,
   "id": "1eb3e9fb",
   "metadata": {},
   "outputs": [
    {
     "name": "stdout",
     "output_type": "stream",
     "text": [
      "Yes\n"
     ]
    }
   ],
   "source": [
    "# Write a python program to check whether a given string is palindrome or not.\n",
    "\n",
    "# function which return reverse of a string\n",
    " \n",
    "def isPalindrome(s):\n",
    "    return s == s[::-1]\n",
    " \n",
    " \n",
    "# Driver code\n",
    "s = \"madam\"\n",
    "ans = isPalindrome(s)\n",
    " \n",
    "if ans:\n",
    "    print(\"Yes\")\n",
    "else:\n",
    "    print(\"No\")\n"
   ]
  },
  {
   "cell_type": "code",
   "execution_count": 28,
   "id": "4258af45",
   "metadata": {},
   "outputs": [
    {
     "name": "stdout",
     "output_type": "stream",
     "text": [
      "Hypotenuse = 5.0\n",
      "Adjacent = 4.0\n",
      "Opposite = 3.0\n",
      " the answer!\n"
     ]
    }
   ],
   "source": [
    "# Write a Python program to get the third side of right-angled triangle from two given sides.\n",
    "\n",
    "def pythagoras(opposite_side,adjacent_side,hypotenuse):\n",
    "        if opposite_side == str(\"x\"):\n",
    "            return (\"Opposite = \" + str(((hypotenuse**2) - (adjacent_side**2))**0.5))\n",
    "        elif adjacent_side == str(\"x\"):\n",
    "            return (\"Adjacent = \" + str(((hypotenuse**2) - (opposite_side**2))**0.5))\n",
    "        elif hypotenuse == str(\"x\"):\n",
    "            return (\"Hypotenuse = \" + str(((opposite_side**2) + (adjacent_side**2))**0.5))\n",
    "        else:\n",
    "            return \" the answer!\"\n",
    "    \n",
    "print(pythagoras(3,4,'x'))\n",
    "print(pythagoras(3,'x',5))\n",
    "print(pythagoras('x',4,5))\n",
    "print(pythagoras(3,4,5))\n"
   ]
  },
  {
   "cell_type": "code",
   "execution_count": 30,
   "id": "fcb09ecf",
   "metadata": {},
   "outputs": [
    {
     "name": "stdout",
     "output_type": "stream",
     "text": [
      "Count of all characters in GeeksforGeeks is :\n",
      " Counter({'a': 3, 'd': 2, 't': 2, ' ': 2, 'r': 1, 'i': 1, 'n': 1, 'e': 1})\n"
     ]
    }
   ],
   "source": [
    "# Write a python program to print the frequency of each of the characters present in a given string.\n",
    "\n",
    "from collections import Counter\n",
    "  \n",
    "# initializing string \n",
    "test_str = \"data trained \"\n",
    "  \n",
    "# using collections.Counter() to get \n",
    "# count of each element in string \n",
    "res = Counter(test_str)\n",
    "  \n",
    "# printing result \n",
    "print (\"Count of all characters in GeeksforGeeks is :\\n \"\n",
    "                                           +  str(res))\n"
   ]
  },
  {
   "cell_type": "code",
   "execution_count": null,
   "id": "5f30441a",
   "metadata": {},
   "outputs": [],
   "source": []
  }
 ],
 "metadata": {
  "kernelspec": {
   "display_name": "Python 3 (ipykernel)",
   "language": "python",
   "name": "python3"
  },
  "language_info": {
   "codemirror_mode": {
    "name": "ipython",
    "version": 3
   },
   "file_extension": ".py",
   "mimetype": "text/x-python",
   "name": "python",
   "nbconvert_exporter": "python",
   "pygments_lexer": "ipython3",
   "version": "3.9.12"
  }
 },
 "nbformat": 4,
 "nbformat_minor": 5
}
